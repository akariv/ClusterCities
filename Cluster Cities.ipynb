{
 "cells": [
  {
   "cell_type": "markdown",
   "metadata": {},
   "source": [
    "# Imports and Loadings"
   ]
  },
  {
   "cell_type": "code",
   "execution_count": 1,
   "metadata": {
    "ExecuteTime": {
     "end_time": "2018-05-09T09:45:00.773000Z",
     "start_time": "2018-05-09T09:44:57.421000Z"
    }
   },
   "outputs": [
    {
     "data": {
      "text/html": [
       "\n",
       "    <div class=\"bk-root\">\n",
       "        <a href=\"https://bokeh.pydata.org\" target=\"_blank\" class=\"bk-logo bk-logo-small bk-logo-notebook\"></a>\n",
       "        <span id=\"79b34259-8438-4b42-988c-c1928749df8e\">Loading BokehJS ...</span>\n",
       "    </div>"
      ]
     },
     "metadata": {},
     "output_type": "display_data"
    },
    {
     "data": {
      "application/javascript": [
       "\n",
       "(function(root) {\n",
       "  function now() {\n",
       "    return new Date();\n",
       "  }\n",
       "\n",
       "  var force = true;\n",
       "\n",
       "  if (typeof (root._bokeh_onload_callbacks) === \"undefined\" || force === true) {\n",
       "    root._bokeh_onload_callbacks = [];\n",
       "    root._bokeh_is_loading = undefined;\n",
       "  }\n",
       "\n",
       "  var JS_MIME_TYPE = 'application/javascript';\n",
       "  var HTML_MIME_TYPE = 'text/html';\n",
       "  var EXEC_MIME_TYPE = 'application/vnd.bokehjs_exec.v0+json';\n",
       "  var CLASS_NAME = 'output_bokeh rendered_html';\n",
       "\n",
       "  /**\n",
       "   * Render data to the DOM node\n",
       "   */\n",
       "  function render(props, node) {\n",
       "    var script = document.createElement(\"script\");\n",
       "    node.appendChild(script);\n",
       "  }\n",
       "\n",
       "  /**\n",
       "   * Handle when an output is cleared or removed\n",
       "   */\n",
       "  function handleClearOutput(event, handle) {\n",
       "    var cell = handle.cell;\n",
       "\n",
       "    var id = cell.output_area._bokeh_element_id;\n",
       "    var server_id = cell.output_area._bokeh_server_id;\n",
       "    // Clean up Bokeh references\n",
       "    if (id !== undefined) {\n",
       "      Bokeh.index[id].model.document.clear();\n",
       "      delete Bokeh.index[id];\n",
       "    }\n",
       "\n",
       "    if (server_id !== undefined) {\n",
       "      // Clean up Bokeh references\n",
       "      var cmd = \"from bokeh.io.state import curstate; print(curstate().uuid_to_server['\" + server_id + \"'].get_sessions()[0].document.roots[0]._id)\";\n",
       "      cell.notebook.kernel.execute(cmd, {\n",
       "        iopub: {\n",
       "          output: function(msg) {\n",
       "            var element_id = msg.content.text.trim();\n",
       "            Bokeh.index[element_id].model.document.clear();\n",
       "            delete Bokeh.index[element_id];\n",
       "          }\n",
       "        }\n",
       "      });\n",
       "      // Destroy server and session\n",
       "      var cmd = \"import bokeh.io.notebook as ion; ion.destroy_server('\" + server_id + \"')\";\n",
       "      cell.notebook.kernel.execute(cmd);\n",
       "    }\n",
       "  }\n",
       "\n",
       "  /**\n",
       "   * Handle when a new output is added\n",
       "   */\n",
       "  function handleAddOutput(event, handle) {\n",
       "    var output_area = handle.output_area;\n",
       "    var output = handle.output;\n",
       "\n",
       "    // limit handleAddOutput to display_data with EXEC_MIME_TYPE content only\n",
       "    if ((output.output_type != \"display_data\") || (!output.data.hasOwnProperty(EXEC_MIME_TYPE))) {\n",
       "      return\n",
       "    }\n",
       "\n",
       "    var toinsert = output_area.element.find(\".\" + CLASS_NAME.split(' ')[0]);\n",
       "\n",
       "    if (output.metadata[EXEC_MIME_TYPE][\"id\"] !== undefined) {\n",
       "      toinsert[0].firstChild.textContent = output.data[JS_MIME_TYPE];\n",
       "      // store reference to embed id on output_area\n",
       "      output_area._bokeh_element_id = output.metadata[EXEC_MIME_TYPE][\"id\"];\n",
       "    }\n",
       "    if (output.metadata[EXEC_MIME_TYPE][\"server_id\"] !== undefined) {\n",
       "      var bk_div = document.createElement(\"div\");\n",
       "      bk_div.innerHTML = output.data[HTML_MIME_TYPE];\n",
       "      var script_attrs = bk_div.children[0].attributes;\n",
       "      for (var i = 0; i < script_attrs.length; i++) {\n",
       "        toinsert[0].firstChild.setAttribute(script_attrs[i].name, script_attrs[i].value);\n",
       "      }\n",
       "      // store reference to server id on output_area\n",
       "      output_area._bokeh_server_id = output.metadata[EXEC_MIME_TYPE][\"server_id\"];\n",
       "    }\n",
       "  }\n",
       "\n",
       "  function register_renderer(events, OutputArea) {\n",
       "\n",
       "    function append_mime(data, metadata, element) {\n",
       "      // create a DOM node to render to\n",
       "      var toinsert = this.create_output_subarea(\n",
       "        metadata,\n",
       "        CLASS_NAME,\n",
       "        EXEC_MIME_TYPE\n",
       "      );\n",
       "      this.keyboard_manager.register_events(toinsert);\n",
       "      // Render to node\n",
       "      var props = {data: data, metadata: metadata[EXEC_MIME_TYPE]};\n",
       "      render(props, toinsert[0]);\n",
       "      element.append(toinsert);\n",
       "      return toinsert\n",
       "    }\n",
       "\n",
       "    /* Handle when an output is cleared or removed */\n",
       "    events.on('clear_output.CodeCell', handleClearOutput);\n",
       "    events.on('delete.Cell', handleClearOutput);\n",
       "\n",
       "    /* Handle when a new output is added */\n",
       "    events.on('output_added.OutputArea', handleAddOutput);\n",
       "\n",
       "    /**\n",
       "     * Register the mime type and append_mime function with output_area\n",
       "     */\n",
       "    OutputArea.prototype.register_mime_type(EXEC_MIME_TYPE, append_mime, {\n",
       "      /* Is output safe? */\n",
       "      safe: true,\n",
       "      /* Index of renderer in `output_area.display_order` */\n",
       "      index: 0\n",
       "    });\n",
       "  }\n",
       "\n",
       "  // register the mime type if in Jupyter Notebook environment and previously unregistered\n",
       "  if (root.Jupyter !== undefined) {\n",
       "    var events = require('base/js/events');\n",
       "    var OutputArea = require('notebook/js/outputarea').OutputArea;\n",
       "\n",
       "    if (OutputArea.prototype.mime_types().indexOf(EXEC_MIME_TYPE) == -1) {\n",
       "      register_renderer(events, OutputArea);\n",
       "    }\n",
       "  }\n",
       "\n",
       "  \n",
       "  if (typeof (root._bokeh_timeout) === \"undefined\" || force === true) {\n",
       "    root._bokeh_timeout = Date.now() + 5000;\n",
       "    root._bokeh_failed_load = false;\n",
       "  }\n",
       "\n",
       "  var NB_LOAD_WARNING = {'data': {'text/html':\n",
       "     \"<div style='background-color: #fdd'>\\n\"+\n",
       "     \"<p>\\n\"+\n",
       "     \"BokehJS does not appear to have successfully loaded. If loading BokehJS from CDN, this \\n\"+\n",
       "     \"may be due to a slow or bad network connection. Possible fixes:\\n\"+\n",
       "     \"</p>\\n\"+\n",
       "     \"<ul>\\n\"+\n",
       "     \"<li>re-rerun `output_notebook()` to attempt to load from CDN again, or</li>\\n\"+\n",
       "     \"<li>use INLINE resources instead, as so:</li>\\n\"+\n",
       "     \"</ul>\\n\"+\n",
       "     \"<code>\\n\"+\n",
       "     \"from bokeh.resources import INLINE\\n\"+\n",
       "     \"output_notebook(resources=INLINE)\\n\"+\n",
       "     \"</code>\\n\"+\n",
       "     \"</div>\"}};\n",
       "\n",
       "  function display_loaded() {\n",
       "    var el = document.getElementById(\"79b34259-8438-4b42-988c-c1928749df8e\");\n",
       "    if (el != null) {\n",
       "      el.textContent = \"BokehJS is loading...\";\n",
       "    }\n",
       "    if (root.Bokeh !== undefined) {\n",
       "      if (el != null) {\n",
       "        el.textContent = \"BokehJS \" + root.Bokeh.version + \" successfully loaded.\";\n",
       "      }\n",
       "    } else if (Date.now() < root._bokeh_timeout) {\n",
       "      setTimeout(display_loaded, 100)\n",
       "    }\n",
       "  }\n",
       "\n",
       "\n",
       "  function run_callbacks() {\n",
       "    try {\n",
       "      root._bokeh_onload_callbacks.forEach(function(callback) { callback() });\n",
       "    }\n",
       "    finally {\n",
       "      delete root._bokeh_onload_callbacks\n",
       "    }\n",
       "    console.info(\"Bokeh: all callbacks have finished\");\n",
       "  }\n",
       "\n",
       "  function load_libs(js_urls, callback) {\n",
       "    root._bokeh_onload_callbacks.push(callback);\n",
       "    if (root._bokeh_is_loading > 0) {\n",
       "      console.log(\"Bokeh: BokehJS is being loaded, scheduling callback at\", now());\n",
       "      return null;\n",
       "    }\n",
       "    if (js_urls == null || js_urls.length === 0) {\n",
       "      run_callbacks();\n",
       "      return null;\n",
       "    }\n",
       "    console.log(\"Bokeh: BokehJS not loaded, scheduling load and callback at\", now());\n",
       "    root._bokeh_is_loading = js_urls.length;\n",
       "    for (var i = 0; i < js_urls.length; i++) {\n",
       "      var url = js_urls[i];\n",
       "      var s = document.createElement('script');\n",
       "      s.src = url;\n",
       "      s.async = false;\n",
       "      s.onreadystatechange = s.onload = function() {\n",
       "        root._bokeh_is_loading--;\n",
       "        if (root._bokeh_is_loading === 0) {\n",
       "          console.log(\"Bokeh: all BokehJS libraries loaded\");\n",
       "          run_callbacks()\n",
       "        }\n",
       "      };\n",
       "      s.onerror = function() {\n",
       "        console.warn(\"failed to load library \" + url);\n",
       "      };\n",
       "      console.log(\"Bokeh: injecting script tag for BokehJS library: \", url);\n",
       "      document.getElementsByTagName(\"head\")[0].appendChild(s);\n",
       "    }\n",
       "  };var element = document.getElementById(\"79b34259-8438-4b42-988c-c1928749df8e\");\n",
       "  if (element == null) {\n",
       "    console.log(\"Bokeh: ERROR: autoload.js configured with elementid '79b34259-8438-4b42-988c-c1928749df8e' but no matching script tag was found. \")\n",
       "    return false;\n",
       "  }\n",
       "\n",
       "  var js_urls = [\"https://cdn.pydata.org/bokeh/release/bokeh-0.12.14.min.js\", \"https://cdn.pydata.org/bokeh/release/bokeh-widgets-0.12.14.min.js\", \"https://cdn.pydata.org/bokeh/release/bokeh-tables-0.12.14.min.js\", \"https://cdn.pydata.org/bokeh/release/bokeh-gl-0.12.14.min.js\"];\n",
       "\n",
       "  var inline_js = [\n",
       "    function(Bokeh) {\n",
       "      Bokeh.set_log_level(\"info\");\n",
       "    },\n",
       "    \n",
       "    function(Bokeh) {\n",
       "      \n",
       "    },\n",
       "    function(Bokeh) {\n",
       "      console.log(\"Bokeh: injecting CSS: https://cdn.pydata.org/bokeh/release/bokeh-0.12.14.min.css\");\n",
       "      Bokeh.embed.inject_css(\"https://cdn.pydata.org/bokeh/release/bokeh-0.12.14.min.css\");\n",
       "      console.log(\"Bokeh: injecting CSS: https://cdn.pydata.org/bokeh/release/bokeh-widgets-0.12.14.min.css\");\n",
       "      Bokeh.embed.inject_css(\"https://cdn.pydata.org/bokeh/release/bokeh-widgets-0.12.14.min.css\");\n",
       "      console.log(\"Bokeh: injecting CSS: https://cdn.pydata.org/bokeh/release/bokeh-tables-0.12.14.min.css\");\n",
       "      Bokeh.embed.inject_css(\"https://cdn.pydata.org/bokeh/release/bokeh-tables-0.12.14.min.css\");\n",
       "    }\n",
       "  ];\n",
       "\n",
       "  function run_inline_js() {\n",
       "    \n",
       "    if ((root.Bokeh !== undefined) || (force === true)) {\n",
       "      for (var i = 0; i < inline_js.length; i++) {\n",
       "        inline_js[i].call(root, root.Bokeh);\n",
       "      }if (force === true) {\n",
       "        display_loaded();\n",
       "      }} else if (Date.now() < root._bokeh_timeout) {\n",
       "      setTimeout(run_inline_js, 100);\n",
       "    } else if (!root._bokeh_failed_load) {\n",
       "      console.log(\"Bokeh: BokehJS failed to load within specified timeout.\");\n",
       "      root._bokeh_failed_load = true;\n",
       "    } else if (force !== true) {\n",
       "      var cell = $(document.getElementById(\"79b34259-8438-4b42-988c-c1928749df8e\")).parents('.cell').data().cell;\n",
       "      cell.output_area.append_execute_result(NB_LOAD_WARNING)\n",
       "    }\n",
       "\n",
       "  }\n",
       "\n",
       "  if (root._bokeh_is_loading === 0) {\n",
       "    console.log(\"Bokeh: BokehJS loaded, going straight to plotting\");\n",
       "    run_inline_js();\n",
       "  } else {\n",
       "    load_libs(js_urls, function() {\n",
       "      console.log(\"Bokeh: BokehJS plotting callback run at\", now());\n",
       "      run_inline_js();\n",
       "    });\n",
       "  }\n",
       "}(window));"
      ],
      "application/vnd.bokehjs_load.v0+json": "\n(function(root) {\n  function now() {\n    return new Date();\n  }\n\n  var force = true;\n\n  if (typeof (root._bokeh_onload_callbacks) === \"undefined\" || force === true) {\n    root._bokeh_onload_callbacks = [];\n    root._bokeh_is_loading = undefined;\n  }\n\n  \n\n  \n  if (typeof (root._bokeh_timeout) === \"undefined\" || force === true) {\n    root._bokeh_timeout = Date.now() + 5000;\n    root._bokeh_failed_load = false;\n  }\n\n  var NB_LOAD_WARNING = {'data': {'text/html':\n     \"<div style='background-color: #fdd'>\\n\"+\n     \"<p>\\n\"+\n     \"BokehJS does not appear to have successfully loaded. If loading BokehJS from CDN, this \\n\"+\n     \"may be due to a slow or bad network connection. Possible fixes:\\n\"+\n     \"</p>\\n\"+\n     \"<ul>\\n\"+\n     \"<li>re-rerun `output_notebook()` to attempt to load from CDN again, or</li>\\n\"+\n     \"<li>use INLINE resources instead, as so:</li>\\n\"+\n     \"</ul>\\n\"+\n     \"<code>\\n\"+\n     \"from bokeh.resources import INLINE\\n\"+\n     \"output_notebook(resources=INLINE)\\n\"+\n     \"</code>\\n\"+\n     \"</div>\"}};\n\n  function display_loaded() {\n    var el = document.getElementById(\"79b34259-8438-4b42-988c-c1928749df8e\");\n    if (el != null) {\n      el.textContent = \"BokehJS is loading...\";\n    }\n    if (root.Bokeh !== undefined) {\n      if (el != null) {\n        el.textContent = \"BokehJS \" + root.Bokeh.version + \" successfully loaded.\";\n      }\n    } else if (Date.now() < root._bokeh_timeout) {\n      setTimeout(display_loaded, 100)\n    }\n  }\n\n\n  function run_callbacks() {\n    try {\n      root._bokeh_onload_callbacks.forEach(function(callback) { callback() });\n    }\n    finally {\n      delete root._bokeh_onload_callbacks\n    }\n    console.info(\"Bokeh: all callbacks have finished\");\n  }\n\n  function load_libs(js_urls, callback) {\n    root._bokeh_onload_callbacks.push(callback);\n    if (root._bokeh_is_loading > 0) {\n      console.log(\"Bokeh: BokehJS is being loaded, scheduling callback at\", now());\n      return null;\n    }\n    if (js_urls == null || js_urls.length === 0) {\n      run_callbacks();\n      return null;\n    }\n    console.log(\"Bokeh: BokehJS not loaded, scheduling load and callback at\", now());\n    root._bokeh_is_loading = js_urls.length;\n    for (var i = 0; i < js_urls.length; i++) {\n      var url = js_urls[i];\n      var s = document.createElement('script');\n      s.src = url;\n      s.async = false;\n      s.onreadystatechange = s.onload = function() {\n        root._bokeh_is_loading--;\n        if (root._bokeh_is_loading === 0) {\n          console.log(\"Bokeh: all BokehJS libraries loaded\");\n          run_callbacks()\n        }\n      };\n      s.onerror = function() {\n        console.warn(\"failed to load library \" + url);\n      };\n      console.log(\"Bokeh: injecting script tag for BokehJS library: \", url);\n      document.getElementsByTagName(\"head\")[0].appendChild(s);\n    }\n  };var element = document.getElementById(\"79b34259-8438-4b42-988c-c1928749df8e\");\n  if (element == null) {\n    console.log(\"Bokeh: ERROR: autoload.js configured with elementid '79b34259-8438-4b42-988c-c1928749df8e' but no matching script tag was found. \")\n    return false;\n  }\n\n  var js_urls = [\"https://cdn.pydata.org/bokeh/release/bokeh-0.12.14.min.js\", \"https://cdn.pydata.org/bokeh/release/bokeh-widgets-0.12.14.min.js\", \"https://cdn.pydata.org/bokeh/release/bokeh-tables-0.12.14.min.js\", \"https://cdn.pydata.org/bokeh/release/bokeh-gl-0.12.14.min.js\"];\n\n  var inline_js = [\n    function(Bokeh) {\n      Bokeh.set_log_level(\"info\");\n    },\n    \n    function(Bokeh) {\n      \n    },\n    function(Bokeh) {\n      console.log(\"Bokeh: injecting CSS: https://cdn.pydata.org/bokeh/release/bokeh-0.12.14.min.css\");\n      Bokeh.embed.inject_css(\"https://cdn.pydata.org/bokeh/release/bokeh-0.12.14.min.css\");\n      console.log(\"Bokeh: injecting CSS: https://cdn.pydata.org/bokeh/release/bokeh-widgets-0.12.14.min.css\");\n      Bokeh.embed.inject_css(\"https://cdn.pydata.org/bokeh/release/bokeh-widgets-0.12.14.min.css\");\n      console.log(\"Bokeh: injecting CSS: https://cdn.pydata.org/bokeh/release/bokeh-tables-0.12.14.min.css\");\n      Bokeh.embed.inject_css(\"https://cdn.pydata.org/bokeh/release/bokeh-tables-0.12.14.min.css\");\n    }\n  ];\n\n  function run_inline_js() {\n    \n    if ((root.Bokeh !== undefined) || (force === true)) {\n      for (var i = 0; i < inline_js.length; i++) {\n        inline_js[i].call(root, root.Bokeh);\n      }if (force === true) {\n        display_loaded();\n      }} else if (Date.now() < root._bokeh_timeout) {\n      setTimeout(run_inline_js, 100);\n    } else if (!root._bokeh_failed_load) {\n      console.log(\"Bokeh: BokehJS failed to load within specified timeout.\");\n      root._bokeh_failed_load = true;\n    } else if (force !== true) {\n      var cell = $(document.getElementById(\"79b34259-8438-4b42-988c-c1928749df8e\")).parents('.cell').data().cell;\n      cell.output_area.append_execute_result(NB_LOAD_WARNING)\n    }\n\n  }\n\n  if (root._bokeh_is_loading === 0) {\n    console.log(\"Bokeh: BokehJS loaded, going straight to plotting\");\n    run_inline_js();\n  } else {\n    load_libs(js_urls, function() {\n      console.log(\"Bokeh: BokehJS plotting callback run at\", now());\n      run_inline_js();\n    });\n  }\n}(window));"
     },
     "metadata": {},
     "output_type": "display_data"
    }
   ],
   "source": [
    "import numpy as np, pandas as pd\n",
    "import matplotlib.pyplot as plt\n",
    "plt.style.use('ggplot')\n",
    "import sklearn.preprocessing as preprocessing\n",
    "from sklearn import decomposition\n",
    "import bokeh\n",
    "from bokeh.io import output_notebook\n",
    "from bokeh.plotting import figure, output_file, show\n",
    "output_notebook()"
   ]
  },
  {
   "cell_type": "code",
   "execution_count": 2,
   "metadata": {
    "ExecuteTime": {
     "end_time": "2018-05-09T09:45:00.869000Z",
     "start_time": "2018-05-09T09:45:00.778000Z"
    }
   },
   "outputs": [
    {
     "name": "stdout",
     "output_type": "stream",
     "text": [
      "(255, 386)\n"
     ]
    }
   ],
   "source": [
    "full_df = pd.DataFrame.from_csv('Data/Lamas_muni_data_from_SQL.csv')\n",
    "full_df.reset_index(inplace=True)\n",
    "print full_df.shape"
   ]
  },
  {
   "cell_type": "code",
   "execution_count": 3,
   "metadata": {
    "ExecuteTime": {
     "end_time": "2018-05-09T09:45:00.962000Z",
     "start_time": "2018-05-09T09:45:00.873000Z"
    }
   },
   "outputs": [
    {
     "name": "stdout",
     "output_type": "stream",
     "text": [
      "(255, 386)\n"
     ]
    },
    {
     "data": {
      "text/html": [
       "<div>\n",
       "<style>\n",
       "    .dataframe thead tr:only-child th {\n",
       "        text-align: right;\n",
       "    }\n",
       "\n",
       "    .dataframe thead th {\n",
       "        text-align: left;\n",
       "    }\n",
       "\n",
       "    .dataframe tbody tr th {\n",
       "        vertical-align: top;\n",
       "    }\n",
       "</style>\n",
       "<table border=\"1\" class=\"dataframe\">\n",
       "  <thead>\n",
       "    <tr style=\"text-align: right;\">\n",
       "      <th></th>\n",
       "      <th>accidents_road_with_injured_rate_per_1000_residents_2015</th>\n",
       "      <th>accidents_road_with_injured_rate_per_1000_vehicles_transportati</th>\n",
       "      <th>accidents_road_with_injured_total_2015</th>\n",
       "      <th>age_avg_of_recip_funds_unemployment_not_incl_soldiers_2015</th>\n",
       "      <th>age_avg_of_transportation_private_years_2015</th>\n",
       "      <th>arab_pct_2015</th>\n",
       "      <th>arnona_residential_collection_late_fund_interest_2015</th>\n",
       "      <th>arnona_residential_collection_the_year_fund_interest_2015</th>\n",
       "      <th>arnona_residential_total_exemption_releases_discounts_2015</th>\n",
       "      <th>avg_distances_km_2006</th>\n",
       "      <th>...</th>\n",
       "      <th>waste_solid_residential_commercial_cutting_kg_daily_per_capita_</th>\n",
       "      <th>xfer_expenses_one_time_incl_cover_deficit_acc_of_municipality_1</th>\n",
       "      <th>xfer_expenses_one_time_incl_cover_deficit_acc_of_municipality_p</th>\n",
       "      <th>xfer_incomes_one_time_to_cover_deficit_acc_1000s_nis_2015</th>\n",
       "      <th>xfer_incomes_one_time_to_cover_deficit_acc_pct_change_real_2015</th>\n",
       "      <th>year_reception_status_municipal</th>\n",
       "      <th>fingerprint</th>\n",
       "      <th>entity_id</th>\n",
       "      <th>entity_kind</th>\n",
       "      <th>entity_name</th>\n",
       "    </tr>\n",
       "  </thead>\n",
       "  <tbody>\n",
       "    <tr>\n",
       "      <th>0</th>\n",
       "      <td>1.0</td>\n",
       "      <td>2.0</td>\n",
       "      <td>3.0</td>\n",
       "      <td>43.0</td>\n",
       "      <td>8.0</td>\n",
       "      <td>NaN</td>\n",
       "      <td>148.0</td>\n",
       "      <td>3883.0</td>\n",
       "      <td>858.0</td>\n",
       "      <td>NaN</td>\n",
       "      <td>...</td>\n",
       "      <td>2.9</td>\n",
       "      <td>1272.0</td>\n",
       "      <td>68.6</td>\n",
       "      <td>NaN</td>\n",
       "      <td>NaN</td>\n",
       "      <td>1949.0</td>\n",
       "      <td>פינה ראש</td>\n",
       "      <td>500200266.0</td>\n",
       "      <td>municipality</td>\n",
       "      <td>מ. מ. ראש פינה</td>\n",
       "    </tr>\n",
       "    <tr>\n",
       "      <th>1</th>\n",
       "      <td>0.7</td>\n",
       "      <td>1.8</td>\n",
       "      <td>9.0</td>\n",
       "      <td>43.0</td>\n",
       "      <td>7.0</td>\n",
       "      <td>NaN</td>\n",
       "      <td>779.0</td>\n",
       "      <td>20276.0</td>\n",
       "      <td>3354.0</td>\n",
       "      <td>NaN</td>\n",
       "      <td>...</td>\n",
       "      <td>1.8</td>\n",
       "      <td>92.0</td>\n",
       "      <td>-55.5</td>\n",
       "      <td>NaN</td>\n",
       "      <td>NaN</td>\n",
       "      <td>1952.0</td>\n",
       "      <td>בתיה מזכרת</td>\n",
       "      <td>500200282.0</td>\n",
       "      <td>municipality</td>\n",
       "      <td>מ. מ. מזכרת בתיה</td>\n",
       "    </tr>\n",
       "    <tr>\n",
       "      <th>2</th>\n",
       "      <td>NaN</td>\n",
       "      <td>NaN</td>\n",
       "      <td>NaN</td>\n",
       "      <td>39.0</td>\n",
       "      <td>8.0</td>\n",
       "      <td>NaN</td>\n",
       "      <td>123.0</td>\n",
       "      <td>3247.0</td>\n",
       "      <td>559.0</td>\n",
       "      <td>NaN</td>\n",
       "      <td>...</td>\n",
       "      <td>2.7</td>\n",
       "      <td>42.0</td>\n",
       "      <td>-81.8</td>\n",
       "      <td>NaN</td>\n",
       "      <td>NaN</td>\n",
       "      <td>1949.0</td>\n",
       "      <td>המעלה יסוד</td>\n",
       "      <td>500200290.0</td>\n",
       "      <td>municipality</td>\n",
       "      <td>מ. מ. יסוד המעלה</td>\n",
       "    </tr>\n",
       "    <tr>\n",
       "      <th>3</th>\n",
       "      <td>0.6</td>\n",
       "      <td>2.8</td>\n",
       "      <td>16.0</td>\n",
       "      <td>41.0</td>\n",
       "      <td>8.0</td>\n",
       "      <td>NaN</td>\n",
       "      <td>NaN</td>\n",
       "      <td>NaN</td>\n",
       "      <td>NaN</td>\n",
       "      <td>NaN</td>\n",
       "      <td>...</td>\n",
       "      <td>1.5</td>\n",
       "      <td>3246.0</td>\n",
       "      <td>-12.1</td>\n",
       "      <td>1937.0</td>\n",
       "      <td>67.4</td>\n",
       "      <td>1995.0</td>\n",
       "      <td>אופקים</td>\n",
       "      <td>500200316.0</td>\n",
       "      <td>municipality</td>\n",
       "      <td>עירית אופקים</td>\n",
       "    </tr>\n",
       "    <tr>\n",
       "      <th>4</th>\n",
       "      <td>1.2</td>\n",
       "      <td>2.7</td>\n",
       "      <td>4.0</td>\n",
       "      <td>44.0</td>\n",
       "      <td>8.0</td>\n",
       "      <td>NaN</td>\n",
       "      <td>434.0</td>\n",
       "      <td>4947.0</td>\n",
       "      <td>1104.0</td>\n",
       "      <td>NaN</td>\n",
       "      <td>...</td>\n",
       "      <td>1.8</td>\n",
       "      <td>92.0</td>\n",
       "      <td>7.6</td>\n",
       "      <td>NaN</td>\n",
       "      <td>NaN</td>\n",
       "      <td>1977.0</td>\n",
       "      <td>אליכין</td>\n",
       "      <td>500200415.0</td>\n",
       "      <td>municipality</td>\n",
       "      <td>מ. מ. אליכין</td>\n",
       "    </tr>\n",
       "  </tbody>\n",
       "</table>\n",
       "<p>5 rows × 386 columns</p>\n",
       "</div>"
      ],
      "text/plain": [
       "   accidents_road_with_injured_rate_per_1000_residents_2015  \\\n",
       "0                                                1.0          \n",
       "1                                                0.7          \n",
       "2                                                NaN          \n",
       "3                                                0.6          \n",
       "4                                                1.2          \n",
       "\n",
       "   accidents_road_with_injured_rate_per_1000_vehicles_transportati  \\\n",
       "0                                                2.0                 \n",
       "1                                                1.8                 \n",
       "2                                                NaN                 \n",
       "3                                                2.8                 \n",
       "4                                                2.7                 \n",
       "\n",
       "   accidents_road_with_injured_total_2015  \\\n",
       "0                                     3.0   \n",
       "1                                     9.0   \n",
       "2                                     NaN   \n",
       "3                                    16.0   \n",
       "4                                     4.0   \n",
       "\n",
       "   age_avg_of_recip_funds_unemployment_not_incl_soldiers_2015  \\\n",
       "0                                               43.0            \n",
       "1                                               43.0            \n",
       "2                                               39.0            \n",
       "3                                               41.0            \n",
       "4                                               44.0            \n",
       "\n",
       "   age_avg_of_transportation_private_years_2015  arab_pct_2015  \\\n",
       "0                                           8.0            NaN   \n",
       "1                                           7.0            NaN   \n",
       "2                                           8.0            NaN   \n",
       "3                                           8.0            NaN   \n",
       "4                                           8.0            NaN   \n",
       "\n",
       "   arnona_residential_collection_late_fund_interest_2015  \\\n",
       "0                                              148.0       \n",
       "1                                              779.0       \n",
       "2                                              123.0       \n",
       "3                                                NaN       \n",
       "4                                              434.0       \n",
       "\n",
       "   arnona_residential_collection_the_year_fund_interest_2015  \\\n",
       "0                                             3883.0           \n",
       "1                                            20276.0           \n",
       "2                                             3247.0           \n",
       "3                                                NaN           \n",
       "4                                             4947.0           \n",
       "\n",
       "   arnona_residential_total_exemption_releases_discounts_2015  \\\n",
       "0                                              858.0            \n",
       "1                                             3354.0            \n",
       "2                                              559.0            \n",
       "3                                                NaN            \n",
       "4                                             1104.0            \n",
       "\n",
       "   avg_distances_km_2006        ...         \\\n",
       "0                    NaN        ...          \n",
       "1                    NaN        ...          \n",
       "2                    NaN        ...          \n",
       "3                    NaN        ...          \n",
       "4                    NaN        ...          \n",
       "\n",
       "   waste_solid_residential_commercial_cutting_kg_daily_per_capita_  \\\n",
       "0                                                2.9                 \n",
       "1                                                1.8                 \n",
       "2                                                2.7                 \n",
       "3                                                1.5                 \n",
       "4                                                1.8                 \n",
       "\n",
       "   xfer_expenses_one_time_incl_cover_deficit_acc_of_municipality_1  \\\n",
       "0                                             1272.0                 \n",
       "1                                               92.0                 \n",
       "2                                               42.0                 \n",
       "3                                             3246.0                 \n",
       "4                                               92.0                 \n",
       "\n",
       "   xfer_expenses_one_time_incl_cover_deficit_acc_of_municipality_p  \\\n",
       "0                                               68.6                 \n",
       "1                                              -55.5                 \n",
       "2                                              -81.8                 \n",
       "3                                              -12.1                 \n",
       "4                                                7.6                 \n",
       "\n",
       "   xfer_incomes_one_time_to_cover_deficit_acc_1000s_nis_2015  \\\n",
       "0                                                NaN           \n",
       "1                                                NaN           \n",
       "2                                                NaN           \n",
       "3                                             1937.0           \n",
       "4                                                NaN           \n",
       "\n",
       "   xfer_incomes_one_time_to_cover_deficit_acc_pct_change_real_2015  \\\n",
       "0                                                NaN                 \n",
       "1                                                NaN                 \n",
       "2                                                NaN                 \n",
       "3                                               67.4                 \n",
       "4                                                NaN                 \n",
       "\n",
       "   year_reception_status_municipal  fingerprint    entity_id   entity_kind  \\\n",
       "0                           1949.0     פינה ראש  500200266.0  municipality   \n",
       "1                           1952.0   בתיה מזכרת  500200282.0  municipality   \n",
       "2                           1949.0   המעלה יסוד  500200290.0  municipality   \n",
       "3                           1995.0       אופקים  500200316.0  municipality   \n",
       "4                           1977.0       אליכין  500200415.0  municipality   \n",
       "\n",
       "        entity_name  \n",
       "0    מ. מ. ראש פינה  \n",
       "1  מ. מ. מזכרת בתיה  \n",
       "2  מ. מ. יסוד המעלה  \n",
       "3      עירית אופקים  \n",
       "4      מ. מ. אליכין  \n",
       "\n",
       "[5 rows x 386 columns]"
      ]
     },
     "execution_count": 3,
     "metadata": {},
     "output_type": "execute_result"
    }
   ],
   "source": [
    "print full_df.shape\n",
    "full_df.head()"
   ]
  },
  {
   "cell_type": "markdown",
   "metadata": {},
   "source": [
    "# Preprocessing"
   ]
  },
  {
   "cell_type": "code",
   "execution_count": 4,
   "metadata": {
    "ExecuteTime": {
     "end_time": "2018-05-09T09:45:00.980000Z",
     "start_time": "2018-05-09T09:45:00.966000Z"
    }
   },
   "outputs": [
    {
     "data": {
      "text/plain": [
       "2"
      ]
     },
     "execution_count": 4,
     "metadata": {},
     "output_type": "execute_result"
    }
   ],
   "source": [
    "(full_df.notnull().sum()==0).sum()"
   ]
  },
  {
   "cell_type": "code",
   "execution_count": 5,
   "metadata": {
    "ExecuteTime": {
     "end_time": "2018-05-09T09:45:01.007000Z",
     "start_time": "2018-05-09T09:45:00.987000Z"
    },
    "scrolled": true
   },
   "outputs": [
    {
     "data": {
      "text/plain": [
       "accidents_road_with_injured_rate_per_1000_residents_2015           228\n",
       "accidents_road_with_injured_rate_per_1000_vehicles_transportati    228\n",
       "accidents_road_with_injured_total_2015                             228\n",
       "age_avg_of_recip_funds_unemployment_not_incl_soldiers_2015         255\n",
       "age_avg_of_transportation_private_years_2015                       255\n",
       "arab_pct_2015                                                      105\n",
       "arnona_residential_collection_late_fund_interest_2015              241\n",
       "arnona_residential_collection_the_year_fund_interest_2015          244\n",
       "arnona_residential_total_exemption_releases_discounts_2015         243\n",
       "avg_distances_km_2006                                                0\n",
       "avg_distances_weighted_km_2006                                      52\n",
       "avg_students_per_class_in_schools_elementary_incl_education_spe    253\n",
       "avg_students_per_class_in_schools_high_2015_2014/15                222\n",
       "avg_students_per_class_middle_school_2015_2014/15                  216\n",
       "avg_students_per_class_total_2015_2014/15                          254\n",
       "balance_immigration_internal_2015                                  243\n",
       "balance_immigration_total_2015                                     253\n",
       "beginning_construction_area_1000s_m2_total_2015                    248\n",
       "beginning_construction_area_residential_1000s_m2_2015              247\n",
       "beginning_construction_number_flats_2015                           241\n",
       "beginning_of_laying_pipes_sewer_km_2015                             60\n",
       "beginning_of_laying_pipes_tunneling_km_2015                         33\n",
       "beginning_of_laying_pipes_water_km_2015                             57\n",
       "beginning_of_paving_roads_new_enlargement_repairing_of_roads_ar     59\n",
       "beginning_of_paving_roads_new_enlargement_repairing_of_roads_le     59\n",
       "births_live_2015                                                   255\n",
       "cars_private_total_2015                                            255\n",
       "charge_arnona_banks_firms_insurance_1000s_nis_2014                 160\n",
       "charge_arnona_banks_firms_insurance_1000s_nis_2015                 161\n",
       "charge_arnona_banks_firms_insurance_area_1000s_m2_2014             159\n",
       "                                                                  ... \n",
       "uses_land_gardening_decoration_park_public_area_km2_2013           151\n",
       "uses_land_growth_field_2013_pct_of_all_area_jurisdiction           227\n",
       "uses_land_growth_field_area_km2_2013                               227\n",
       "uses_land_health_welfare_2013_pct_of_all_area_jurisdiction         110\n",
       "uses_land_health_welfare_area_km2_2013                             139\n",
       "uses_land_industry_2013_pct_of_all_area_jurisdiction               180\n",
       "uses_land_industry_area_km2_2013                                   186\n",
       "uses_land_infrastructure_transporation_2013_pct_of_all_area_jur    227\n",
       "uses_land_infrastructure_transporation_area_km2_2013               227\n",
       "uses_land_number_all_area_jurisdiction_km2                         249\n",
       "uses_land_plantation_2013_pct_of_all_area_jurisdiction             232\n",
       "uses_land_plantation_area_km2_2013                                 233\n",
       "uses_land_residential_2013_pct_of_all_area_jurisdiction            246\n",
       "uses_land_residential_area_km2_2013                                249\n",
       "uses_land_services_public_2013_pct_of_all_area_jurisdiction        189\n",
       "uses_land_services_public_area_km2_2013                            211\n",
       "vehicles_transportation_motorized_total_2015                       255\n",
       "wage_avg_monthly_of_employees_during_2014_nis                      255\n",
       "wage_avg_monthly_of_men_employees_during_2014_nis                  255\n",
       "wage_avg_monthly_of_women_rent_during_2014_nis                     255\n",
       "waste_solid_residential_commercial_cutting_kg_daily_per_capita_    184\n",
       "xfer_expenses_one_time_incl_cover_deficit_acc_of_municipality_1    245\n",
       "xfer_expenses_one_time_incl_cover_deficit_acc_of_municipality_p    217\n",
       "xfer_incomes_one_time_to_cover_deficit_acc_1000s_nis_2015           73\n",
       "xfer_incomes_one_time_to_cover_deficit_acc_pct_change_real_2015     49\n",
       "year_reception_status_municipal                                    245\n",
       "fingerprint                                                        255\n",
       "entity_id                                                          232\n",
       "entity_kind                                                        232\n",
       "entity_name                                                        232\n",
       "Length: 386, dtype: int64"
      ]
     },
     "execution_count": 5,
     "metadata": {},
     "output_type": "execute_result"
    }
   ],
   "source": [
    "full_df.notnull().sum()"
   ]
  },
  {
   "cell_type": "markdown",
   "metadata": {},
   "source": [
    "## drop features"
   ]
  },
  {
   "cell_type": "code",
   "execution_count": 6,
   "metadata": {
    "ExecuteTime": {
     "end_time": "2018-05-09T09:45:01.048000Z",
     "start_time": "2018-05-09T09:45:01.013000Z"
    }
   },
   "outputs": [
    {
     "name": "stdout",
     "output_type": "stream",
     "text": [
      "additionaly, removing these columns:  ['avg_distances_km_2006', 'entities_institute_non_jewish_2015']\n"
     ]
    }
   ],
   "source": [
    "df = full_df.copy()\n",
    "drop_cols = ['entity_name',\n",
    "             'name_municipality',\n",
    "            'fingerprint',\n",
    "             'entity_kind',\n",
    "             'entities_institute_jewish_2015',\n",
    "             'entities_rural_other_jewish_2015',\n",
    "             'entities_rural_other_non_jewish_2015',\n",
    "             'entities_urban_jewish_4999-2000_residents_2015',\n",
    "             'entities_urban_jewish_9000-5000_residents_2015',\n",
    "             'entities_urban_kibutz_4999-2000_residents_2015',\n",
    "             'entities_urban_moshav_4999-2000_residents_2015',\n",
    "             'entities_urban_moshav_sharing_4999-2000_residents_2015',\n",
    "             'entities_urban_non_jewish_4999-2000_residents_2015',\n",
    "             'name_committee_planning_construction_2015'\n",
    "            ]\n",
    "drop_cols += list(full_df.notnull().sum()[full_df.notnull().sum()==0].index)\n",
    "print 'additionaly, removing these columns: ', list(full_df.notnull().sum()[full_df.notnull().sum()==0].index)\n",
    "df.drop(labels=drop_cols, axis = 1, inplace=True)"
   ]
  },
  {
   "cell_type": "markdown",
   "metadata": {},
   "source": [
    "## separate categorical data and convert to separate binary columns"
   ]
  },
  {
   "cell_type": "code",
   "execution_count": 7,
   "metadata": {
    "ExecuteTime": {
     "end_time": "2018-05-09T09:45:01.057000Z",
     "start_time": "2018-05-09T09:45:01.052000Z"
    },
    "collapsed": true
   },
   "outputs": [],
   "source": [
    "# for column in df.columns:\n",
    "#     if len(df[column].unique())<=10:\n",
    "#         print column, df[column].unique()"
   ]
  },
  {
   "cell_type": "code",
   "execution_count": 8,
   "metadata": {
    "ExecuteTime": {
     "end_time": "2018-05-09T09:45:01.080000Z",
     "start_time": "2018-05-09T09:45:01.061000Z"
    },
    "collapsed": true
   },
   "outputs": [],
   "source": [
    "categorical_cols = ['status_municipal_2015',\n",
    "                   'space_sea_municipalities_local_bordering_beach_sea',\n",
    "                    'index_peripheral_2004_grade_by_group_cluster',\n",
    "                    'district_2015'\n",
    "                   ]"
   ]
  },
  {
   "cell_type": "code",
   "execution_count": 9,
   "metadata": {
    "ExecuteTime": {
     "end_time": "2018-05-09T09:45:01.109000Z",
     "start_time": "2018-05-09T09:45:01.087000Z"
    },
    "collapsed": true
   },
   "outputs": [],
   "source": [
    "tmp = df[categorical_cols].copy()\n",
    "categorical_df = pd.get_dummies(tmp)"
   ]
  },
  {
   "cell_type": "code",
   "execution_count": null,
   "metadata": {
    "collapsed": true
   },
   "outputs": [],
   "source": []
  },
  {
   "cell_type": "markdown",
   "metadata": {},
   "source": [
    "## fill missing data"
   ]
  },
  {
   "cell_type": "markdown",
   "metadata": {},
   "source": [
    "Fill with zeros"
   ]
  },
  {
   "cell_type": "code",
   "execution_count": 10,
   "metadata": {
    "ExecuteTime": {
     "end_time": "2018-05-09T09:45:01.123000Z",
     "start_time": "2018-05-09T09:45:01.113000Z"
    },
    "collapsed": true
   },
   "outputs": [],
   "source": [
    "df.replace(to_replace=np.nan, value = 0, inplace=True)"
   ]
  },
  {
   "cell_type": "markdown",
   "metadata": {},
   "source": [
    "## separate numerical values and standardize"
   ]
  },
  {
   "cell_type": "code",
   "execution_count": 11,
   "metadata": {
    "ExecuteTime": {
     "end_time": "2018-05-09T09:45:01.148000Z",
     "start_time": "2018-05-09T09:45:01.126000Z"
    }
   },
   "outputs": [
    {
     "name": "stdout",
     "output_type": "stream",
     "text": [
      "370 366 4\n"
     ]
    }
   ],
   "source": [
    "numerical_columns = list(set(df.columns)-set(categorical_cols))\n",
    "print len(df.columns), len(numerical_columns), len(categorical_cols)"
   ]
  },
  {
   "cell_type": "markdown",
   "metadata": {},
   "source": [
    "### sparse features"
   ]
  },
  {
   "cell_type": "code",
   "execution_count": 12,
   "metadata": {
    "ExecuteTime": {
     "end_time": "2018-05-09T09:45:01.230000Z",
     "start_time": "2018-05-09T09:45:01.158000Z"
    },
    "scrolled": false
   },
   "outputs": [
    {
     "name": "stdout",
     "output_type": "stream",
     "text": [
      "74\n"
     ]
    }
   ],
   "source": [
    "counter =0 \n",
    "for column in numerical_columns:\n",
    "    try:\n",
    "        if df[column].median() == 0:\n",
    "            counter+=1\n",
    "    except:\n",
    "        print column\n",
    "print counter"
   ]
  },
  {
   "cell_type": "markdown",
   "metadata": {},
   "source": [
    "## scale: MinMax / \"Robust Scaler\""
   ]
  },
  {
   "cell_type": "markdown",
   "metadata": {},
   "source": [
    "more methods in: http://scikit-learn.org/stable/modules/preprocessing.html"
   ]
  },
  {
   "cell_type": "code",
   "execution_count": 13,
   "metadata": {
    "ExecuteTime": {
     "end_time": "2018-05-09T09:45:01.389000Z",
     "start_time": "2018-05-09T09:45:01.233000Z"
    }
   },
   "outputs": [
    {
     "data": {
      "text/html": [
       "<div>\n",
       "<style>\n",
       "    .dataframe thead tr:only-child th {\n",
       "        text-align: right;\n",
       "    }\n",
       "\n",
       "    .dataframe thead th {\n",
       "        text-align: left;\n",
       "    }\n",
       "\n",
       "    .dataframe tbody tr th {\n",
       "        vertical-align: top;\n",
       "    }\n",
       "</style>\n",
       "<table border=\"1\" class=\"dataframe\">\n",
       "  <thead>\n",
       "    <tr style=\"text-align: right;\">\n",
       "      <th></th>\n",
       "      <th>pct_recip_supp_income_out_of_recip_handouts_old_age_survivors_2</th>\n",
       "      <th>total_income_of_municipality_budget_non_regular_pct_change_real</th>\n",
       "      <th>prop_topographic_2006_std_dev_of_heights_above_level_sea_rating</th>\n",
       "      <th>charge_arnona_industry_workshops_1000s_nis_2014</th>\n",
       "      <th>number_the_kids_due_to_paid_handouts_in_families_with_2-1_kids_</th>\n",
       "      <th>avg_students_per_class_in_schools_elementary_incl_education_spe</th>\n",
       "      <th>uses_land_area_open_other_2013_pct_of_all_area_jurisdiction</th>\n",
       "      <th>income_own_of_municipality_of_education_pct_change_real_2015_vs</th>\n",
       "      <th>charge_arnona_rest_kinds_asset_area_1000s_m2_2014</th>\n",
       "      <th>charge_arnona_rest_kinds_asset_area_1000s_m2_2015</th>\n",
       "      <th>...</th>\n",
       "      <th>kibutz_2015</th>\n",
       "      <th>use_water_residential_institutional_municipality_local_1000s_m3</th>\n",
       "      <th>recip_funds_unemployment_men_2015_avg_monthly</th>\n",
       "      <th>incoming_from_places_other_age_29-15_2015</th>\n",
       "      <th>pct_freelancers_earning_to_half_wage_avg_in_2014</th>\n",
       "      <th>total_population_end_2015_1000s</th>\n",
       "      <th>avg_distances_weighted_km_2006</th>\n",
       "      <th>total_expenses_of_municipality_budget_regular_1000s_nis_2015</th>\n",
       "      <th>income_of_municipality_budget_non_regular_part_own_assets_pct_c</th>\n",
       "      <th>pct_immigrants_aged_65_and_above_settlement_first_2015</th>\n",
       "    </tr>\n",
       "  </thead>\n",
       "  <tbody>\n",
       "    <tr>\n",
       "      <th>0</th>\n",
       "      <td>0.0</td>\n",
       "      <td>0.000000</td>\n",
       "      <td>0.928934</td>\n",
       "      <td>0.006753</td>\n",
       "      <td>0.002071</td>\n",
       "      <td>0.628571</td>\n",
       "      <td>0.0</td>\n",
       "      <td>0.231774</td>\n",
       "      <td>0.001960</td>\n",
       "      <td>0.003158</td>\n",
       "      <td>...</td>\n",
       "      <td>0.0</td>\n",
       "      <td>0.010920</td>\n",
       "      <td>0.003058</td>\n",
       "      <td>0.003541</td>\n",
       "      <td>0.830882</td>\n",
       "      <td>0.002197</td>\n",
       "      <td>0.0</td>\n",
       "      <td>0.007524</td>\n",
       "      <td>0.311434</td>\n",
       "      <td>0.000</td>\n",
       "    </tr>\n",
       "    <tr>\n",
       "      <th>1</th>\n",
       "      <td>0.0</td>\n",
       "      <td>0.117551</td>\n",
       "      <td>0.081218</td>\n",
       "      <td>0.006200</td>\n",
       "      <td>0.012885</td>\n",
       "      <td>0.885714</td>\n",
       "      <td>0.0</td>\n",
       "      <td>0.243743</td>\n",
       "      <td>0.015463</td>\n",
       "      <td>0.015299</td>\n",
       "      <td>...</td>\n",
       "      <td>0.0</td>\n",
       "      <td>0.034321</td>\n",
       "      <td>0.025076</td>\n",
       "      <td>0.009294</td>\n",
       "      <td>0.240196</td>\n",
       "      <td>0.013531</td>\n",
       "      <td>0.0</td>\n",
       "      <td>0.013779</td>\n",
       "      <td>0.311434</td>\n",
       "      <td>0.167</td>\n",
       "    </tr>\n",
       "    <tr>\n",
       "      <th>2</th>\n",
       "      <td>0.0</td>\n",
       "      <td>0.045170</td>\n",
       "      <td>0.487310</td>\n",
       "      <td>0.001111</td>\n",
       "      <td>0.000861</td>\n",
       "      <td>0.628571</td>\n",
       "      <td>0.0</td>\n",
       "      <td>0.487758</td>\n",
       "      <td>0.000014</td>\n",
       "      <td>0.000014</td>\n",
       "      <td>...</td>\n",
       "      <td>0.0</td>\n",
       "      <td>0.004160</td>\n",
       "      <td>0.000000</td>\n",
       "      <td>0.001992</td>\n",
       "      <td>0.367647</td>\n",
       "      <td>0.000694</td>\n",
       "      <td>0.0</td>\n",
       "      <td>0.002303</td>\n",
       "      <td>0.311434</td>\n",
       "      <td>0.000</td>\n",
       "    </tr>\n",
       "    <tr>\n",
       "      <th>3</th>\n",
       "      <td>0.0</td>\n",
       "      <td>0.254150</td>\n",
       "      <td>0.248731</td>\n",
       "      <td>0.032432</td>\n",
       "      <td>0.034315</td>\n",
       "      <td>0.571429</td>\n",
       "      <td>0.0</td>\n",
       "      <td>1.000000</td>\n",
       "      <td>0.004536</td>\n",
       "      <td>0.004419</td>\n",
       "      <td>...</td>\n",
       "      <td>0.0</td>\n",
       "      <td>0.060322</td>\n",
       "      <td>0.072171</td>\n",
       "      <td>0.031202</td>\n",
       "      <td>0.458333</td>\n",
       "      <td>0.028449</td>\n",
       "      <td>0.0</td>\n",
       "      <td>0.030479</td>\n",
       "      <td>0.492735</td>\n",
       "      <td>0.059</td>\n",
       "    </tr>\n",
       "    <tr>\n",
       "      <th>4</th>\n",
       "      <td>0.0</td>\n",
       "      <td>0.302585</td>\n",
       "      <td>0.060914</td>\n",
       "      <td>0.000009</td>\n",
       "      <td>0.003597</td>\n",
       "      <td>0.714286</td>\n",
       "      <td>0.0</td>\n",
       "      <td>0.151795</td>\n",
       "      <td>0.000000</td>\n",
       "      <td>0.000007</td>\n",
       "      <td>...</td>\n",
       "      <td>0.0</td>\n",
       "      <td>0.003640</td>\n",
       "      <td>0.009174</td>\n",
       "      <td>0.001992</td>\n",
       "      <td>0.296569</td>\n",
       "      <td>0.002776</td>\n",
       "      <td>0.0</td>\n",
       "      <td>0.005002</td>\n",
       "      <td>0.311434</td>\n",
       "      <td>0.000</td>\n",
       "    </tr>\n",
       "  </tbody>\n",
       "</table>\n",
       "<p>5 rows × 366 columns</p>\n",
       "</div>"
      ],
      "text/plain": [
       "   pct_recip_supp_income_out_of_recip_handouts_old_age_survivors_2  \\\n",
       "0                                                0.0                 \n",
       "1                                                0.0                 \n",
       "2                                                0.0                 \n",
       "3                                                0.0                 \n",
       "4                                                0.0                 \n",
       "\n",
       "   total_income_of_municipality_budget_non_regular_pct_change_real  \\\n",
       "0                                           0.000000                 \n",
       "1                                           0.117551                 \n",
       "2                                           0.045170                 \n",
       "3                                           0.254150                 \n",
       "4                                           0.302585                 \n",
       "\n",
       "   prop_topographic_2006_std_dev_of_heights_above_level_sea_rating  \\\n",
       "0                                           0.928934                 \n",
       "1                                           0.081218                 \n",
       "2                                           0.487310                 \n",
       "3                                           0.248731                 \n",
       "4                                           0.060914                 \n",
       "\n",
       "   charge_arnona_industry_workshops_1000s_nis_2014  \\\n",
       "0                                         0.006753   \n",
       "1                                         0.006200   \n",
       "2                                         0.001111   \n",
       "3                                         0.032432   \n",
       "4                                         0.000009   \n",
       "\n",
       "   number_the_kids_due_to_paid_handouts_in_families_with_2-1_kids_  \\\n",
       "0                                           0.002071                 \n",
       "1                                           0.012885                 \n",
       "2                                           0.000861                 \n",
       "3                                           0.034315                 \n",
       "4                                           0.003597                 \n",
       "\n",
       "   avg_students_per_class_in_schools_elementary_incl_education_spe  \\\n",
       "0                                           0.628571                 \n",
       "1                                           0.885714                 \n",
       "2                                           0.628571                 \n",
       "3                                           0.571429                 \n",
       "4                                           0.714286                 \n",
       "\n",
       "   uses_land_area_open_other_2013_pct_of_all_area_jurisdiction  \\\n",
       "0                                                0.0             \n",
       "1                                                0.0             \n",
       "2                                                0.0             \n",
       "3                                                0.0             \n",
       "4                                                0.0             \n",
       "\n",
       "   income_own_of_municipality_of_education_pct_change_real_2015_vs  \\\n",
       "0                                           0.231774                 \n",
       "1                                           0.243743                 \n",
       "2                                           0.487758                 \n",
       "3                                           1.000000                 \n",
       "4                                           0.151795                 \n",
       "\n",
       "   charge_arnona_rest_kinds_asset_area_1000s_m2_2014  \\\n",
       "0                                           0.001960   \n",
       "1                                           0.015463   \n",
       "2                                           0.000014   \n",
       "3                                           0.004536   \n",
       "4                                           0.000000   \n",
       "\n",
       "   charge_arnona_rest_kinds_asset_area_1000s_m2_2015  \\\n",
       "0                                           0.003158   \n",
       "1                                           0.015299   \n",
       "2                                           0.000014   \n",
       "3                                           0.004419   \n",
       "4                                           0.000007   \n",
       "\n",
       "                            ...                            kibutz_2015  \\\n",
       "0                           ...                                    0.0   \n",
       "1                           ...                                    0.0   \n",
       "2                           ...                                    0.0   \n",
       "3                           ...                                    0.0   \n",
       "4                           ...                                    0.0   \n",
       "\n",
       "   use_water_residential_institutional_municipality_local_1000s_m3  \\\n",
       "0                                           0.010920                 \n",
       "1                                           0.034321                 \n",
       "2                                           0.004160                 \n",
       "3                                           0.060322                 \n",
       "4                                           0.003640                 \n",
       "\n",
       "   recip_funds_unemployment_men_2015_avg_monthly  \\\n",
       "0                                       0.003058   \n",
       "1                                       0.025076   \n",
       "2                                       0.000000   \n",
       "3                                       0.072171   \n",
       "4                                       0.009174   \n",
       "\n",
       "   incoming_from_places_other_age_29-15_2015  \\\n",
       "0                                   0.003541   \n",
       "1                                   0.009294   \n",
       "2                                   0.001992   \n",
       "3                                   0.031202   \n",
       "4                                   0.001992   \n",
       "\n",
       "   pct_freelancers_earning_to_half_wage_avg_in_2014  \\\n",
       "0                                          0.830882   \n",
       "1                                          0.240196   \n",
       "2                                          0.367647   \n",
       "3                                          0.458333   \n",
       "4                                          0.296569   \n",
       "\n",
       "   total_population_end_2015_1000s  avg_distances_weighted_km_2006  \\\n",
       "0                         0.002197                             0.0   \n",
       "1                         0.013531                             0.0   \n",
       "2                         0.000694                             0.0   \n",
       "3                         0.028449                             0.0   \n",
       "4                         0.002776                             0.0   \n",
       "\n",
       "   total_expenses_of_municipality_budget_regular_1000s_nis_2015  \\\n",
       "0                                           0.007524              \n",
       "1                                           0.013779              \n",
       "2                                           0.002303              \n",
       "3                                           0.030479              \n",
       "4                                           0.005002              \n",
       "\n",
       "   income_of_municipality_budget_non_regular_part_own_assets_pct_c  \\\n",
       "0                                           0.311434                 \n",
       "1                                           0.311434                 \n",
       "2                                           0.311434                 \n",
       "3                                           0.492735                 \n",
       "4                                           0.311434                 \n",
       "\n",
       "   pct_immigrants_aged_65_and_above_settlement_first_2015  \n",
       "0                                              0.000       \n",
       "1                                              0.167       \n",
       "2                                              0.000       \n",
       "3                                              0.059       \n",
       "4                                              0.000       \n",
       "\n",
       "[5 rows x 366 columns]"
      ]
     },
     "execution_count": 13,
     "metadata": {},
     "output_type": "execute_result"
    }
   ],
   "source": [
    "scaled_numerical_df= df[numerical_columns].copy()\n",
    "min_max_scaler = preprocessing.MinMaxScaler()\n",
    "scaled_numerical_df[numerical_columns] = min_max_scaler.fit_transform(df[numerical_columns])\n",
    "# robust_scaler = preprocessing.RobustScaler()\n",
    "# scaled_numerical_df[numerical_columns] = robust_scaler.fit_transform(df[numerical_columns])\n",
    "scaled_numerical_df.head()"
   ]
  },
  {
   "cell_type": "code",
   "execution_count": 14,
   "metadata": {
    "ExecuteTime": {
     "end_time": "2018-05-09T09:45:01.979000Z",
     "start_time": "2018-05-09T09:45:01.392000Z"
    }
   },
   "outputs": [
    {
     "data": {
      "text/html": [
       "<div>\n",
       "<style>\n",
       "    .dataframe thead tr:only-child th {\n",
       "        text-align: right;\n",
       "    }\n",
       "\n",
       "    .dataframe thead th {\n",
       "        text-align: left;\n",
       "    }\n",
       "\n",
       "    .dataframe tbody tr th {\n",
       "        vertical-align: top;\n",
       "    }\n",
       "</style>\n",
       "<table border=\"1\" class=\"dataframe\">\n",
       "  <thead>\n",
       "    <tr style=\"text-align: right;\">\n",
       "      <th></th>\n",
       "      <th>pct_recip_supp_income_out_of_recip_handouts_old_age_survivors_2</th>\n",
       "      <th>total_income_of_municipality_budget_non_regular_pct_change_real</th>\n",
       "      <th>prop_topographic_2006_std_dev_of_heights_above_level_sea_rating</th>\n",
       "      <th>charge_arnona_industry_workshops_1000s_nis_2014</th>\n",
       "      <th>number_the_kids_due_to_paid_handouts_in_families_with_2-1_kids_</th>\n",
       "      <th>avg_students_per_class_in_schools_elementary_incl_education_spe</th>\n",
       "      <th>uses_land_area_open_other_2013_pct_of_all_area_jurisdiction</th>\n",
       "      <th>income_own_of_municipality_of_education_pct_change_real_2015_vs</th>\n",
       "      <th>charge_arnona_rest_kinds_asset_area_1000s_m2_2014</th>\n",
       "      <th>charge_arnona_rest_kinds_asset_area_1000s_m2_2015</th>\n",
       "      <th>...</th>\n",
       "      <th>kibutz_2015</th>\n",
       "      <th>use_water_residential_institutional_municipality_local_1000s_m3</th>\n",
       "      <th>recip_funds_unemployment_men_2015_avg_monthly</th>\n",
       "      <th>incoming_from_places_other_age_29-15_2015</th>\n",
       "      <th>pct_freelancers_earning_to_half_wage_avg_in_2014</th>\n",
       "      <th>total_population_end_2015_1000s</th>\n",
       "      <th>avg_distances_weighted_km_2006</th>\n",
       "      <th>total_expenses_of_municipality_budget_regular_1000s_nis_2015</th>\n",
       "      <th>income_of_municipality_budget_non_regular_part_own_assets_pct_c</th>\n",
       "      <th>pct_immigrants_aged_65_and_above_settlement_first_2015</th>\n",
       "    </tr>\n",
       "  </thead>\n",
       "  <tbody>\n",
       "    <tr>\n",
       "      <th>count</th>\n",
       "      <td>255.000000</td>\n",
       "      <td>255.000000</td>\n",
       "      <td>255.000000</td>\n",
       "      <td>255.000000</td>\n",
       "      <td>255.000000</td>\n",
       "      <td>255.000000</td>\n",
       "      <td>255.000000</td>\n",
       "      <td>255.000000</td>\n",
       "      <td>255.000000</td>\n",
       "      <td>255.000000</td>\n",
       "      <td>...</td>\n",
       "      <td>255.000000</td>\n",
       "      <td>255.000000</td>\n",
       "      <td>255.000000</td>\n",
       "      <td>255.000000</td>\n",
       "      <td>255.000000</td>\n",
       "      <td>255.000000</td>\n",
       "      <td>255.000000</td>\n",
       "      <td>255.000000</td>\n",
       "      <td>255.000000</td>\n",
       "      <td>255.000000</td>\n",
       "    </tr>\n",
       "    <tr>\n",
       "      <th>mean</th>\n",
       "      <td>0.024302</td>\n",
       "      <td>0.258056</td>\n",
       "      <td>0.375615</td>\n",
       "      <td>0.049525</td>\n",
       "      <td>0.042893</td>\n",
       "      <td>0.696807</td>\n",
       "      <td>0.064805</td>\n",
       "      <td>0.233531</td>\n",
       "      <td>0.020007</td>\n",
       "      <td>0.020360</td>\n",
       "      <td>...</td>\n",
       "      <td>0.036241</td>\n",
       "      <td>0.045315</td>\n",
       "      <td>0.072337</td>\n",
       "      <td>0.031915</td>\n",
       "      <td>0.389389</td>\n",
       "      <td>0.036947</td>\n",
       "      <td>0.060598</td>\n",
       "      <td>0.046021</td>\n",
       "      <td>0.322780</td>\n",
       "      <td>0.088051</td>\n",
       "    </tr>\n",
       "    <tr>\n",
       "      <th>std</th>\n",
       "      <td>0.102878</td>\n",
       "      <td>0.165547</td>\n",
       "      <td>0.328554</td>\n",
       "      <td>0.114357</td>\n",
       "      <td>0.093679</td>\n",
       "      <td>0.111648</td>\n",
       "      <td>0.173712</td>\n",
       "      <td>0.098931</td>\n",
       "      <td>0.094424</td>\n",
       "      <td>0.094094</td>\n",
       "      <td>...</td>\n",
       "      <td>0.118079</td>\n",
       "      <td>0.096982</td>\n",
       "      <td>0.130058</td>\n",
       "      <td>0.080711</td>\n",
       "      <td>0.193357</td>\n",
       "      <td>0.083105</td>\n",
       "      <td>0.143253</td>\n",
       "      <td>0.102448</td>\n",
       "      <td>0.145919</td>\n",
       "      <td>0.133005</td>\n",
       "    </tr>\n",
       "    <tr>\n",
       "      <th>min</th>\n",
       "      <td>0.000000</td>\n",
       "      <td>0.000000</td>\n",
       "      <td>0.000000</td>\n",
       "      <td>0.000000</td>\n",
       "      <td>0.000000</td>\n",
       "      <td>0.000000</td>\n",
       "      <td>0.000000</td>\n",
       "      <td>0.000000</td>\n",
       "      <td>0.000000</td>\n",
       "      <td>0.000000</td>\n",
       "      <td>...</td>\n",
       "      <td>0.000000</td>\n",
       "      <td>0.000000</td>\n",
       "      <td>0.000000</td>\n",
       "      <td>0.000000</td>\n",
       "      <td>0.000000</td>\n",
       "      <td>0.000000</td>\n",
       "      <td>0.000000</td>\n",
       "      <td>0.000000</td>\n",
       "      <td>0.000000</td>\n",
       "      <td>0.000000</td>\n",
       "    </tr>\n",
       "    <tr>\n",
       "      <th>25%</th>\n",
       "      <td>0.000000</td>\n",
       "      <td>0.145578</td>\n",
       "      <td>0.012690</td>\n",
       "      <td>0.000892</td>\n",
       "      <td>0.007467</td>\n",
       "      <td>0.657143</td>\n",
       "      <td>0.000000</td>\n",
       "      <td>0.190560</td>\n",
       "      <td>0.000114</td>\n",
       "      <td>0.000092</td>\n",
       "      <td>...</td>\n",
       "      <td>0.000000</td>\n",
       "      <td>0.002080</td>\n",
       "      <td>0.012844</td>\n",
       "      <td>0.003928</td>\n",
       "      <td>0.256127</td>\n",
       "      <td>0.007286</td>\n",
       "      <td>0.000000</td>\n",
       "      <td>0.009838</td>\n",
       "      <td>0.311434</td>\n",
       "      <td>0.000000</td>\n",
       "    </tr>\n",
       "    <tr>\n",
       "      <th>50%</th>\n",
       "      <td>0.000000</td>\n",
       "      <td>0.223401</td>\n",
       "      <td>0.335025</td>\n",
       "      <td>0.006753</td>\n",
       "      <td>0.016275</td>\n",
       "      <td>0.714286</td>\n",
       "      <td>0.000000</td>\n",
       "      <td>0.212459</td>\n",
       "      <td>0.000969</td>\n",
       "      <td>0.000966</td>\n",
       "      <td>...</td>\n",
       "      <td>0.000000</td>\n",
       "      <td>0.013521</td>\n",
       "      <td>0.028746</td>\n",
       "      <td>0.009847</td>\n",
       "      <td>0.379902</td>\n",
       "      <td>0.015034</td>\n",
       "      <td>0.000000</td>\n",
       "      <td>0.019329</td>\n",
       "      <td>0.311434</td>\n",
       "      <td>0.043000</td>\n",
       "    </tr>\n",
       "    <tr>\n",
       "      <th>75%</th>\n",
       "      <td>0.000000</td>\n",
       "      <td>0.324490</td>\n",
       "      <td>0.662437</td>\n",
       "      <td>0.038215</td>\n",
       "      <td>0.037574</td>\n",
       "      <td>0.771429</td>\n",
       "      <td>0.000000</td>\n",
       "      <td>0.247144</td>\n",
       "      <td>0.006994</td>\n",
       "      <td>0.006937</td>\n",
       "      <td>...</td>\n",
       "      <td>0.000000</td>\n",
       "      <td>0.040562</td>\n",
       "      <td>0.071560</td>\n",
       "      <td>0.027384</td>\n",
       "      <td>0.512255</td>\n",
       "      <td>0.032612</td>\n",
       "      <td>0.000000</td>\n",
       "      <td>0.039323</td>\n",
       "      <td>0.311434</td>\n",
       "      <td>0.133000</td>\n",
       "    </tr>\n",
       "    <tr>\n",
       "      <th>max</th>\n",
       "      <td>1.000000</td>\n",
       "      <td>1.000000</td>\n",
       "      <td>1.000000</td>\n",
       "      <td>1.000000</td>\n",
       "      <td>1.000000</td>\n",
       "      <td>1.000000</td>\n",
       "      <td>1.000000</td>\n",
       "      <td>1.000000</td>\n",
       "      <td>1.000000</td>\n",
       "      <td>1.000000</td>\n",
       "      <td>...</td>\n",
       "      <td>1.000000</td>\n",
       "      <td>1.000000</td>\n",
       "      <td>1.000000</td>\n",
       "      <td>1.000000</td>\n",
       "      <td>1.000000</td>\n",
       "      <td>1.000000</td>\n",
       "      <td>1.000000</td>\n",
       "      <td>1.000000</td>\n",
       "      <td>1.000000</td>\n",
       "      <td>1.000000</td>\n",
       "    </tr>\n",
       "  </tbody>\n",
       "</table>\n",
       "<p>8 rows × 366 columns</p>\n",
       "</div>"
      ],
      "text/plain": [
       "       pct_recip_supp_income_out_of_recip_handouts_old_age_survivors_2  \\\n",
       "count                                         255.000000                 \n",
       "mean                                            0.024302                 \n",
       "std                                             0.102878                 \n",
       "min                                             0.000000                 \n",
       "25%                                             0.000000                 \n",
       "50%                                             0.000000                 \n",
       "75%                                             0.000000                 \n",
       "max                                             1.000000                 \n",
       "\n",
       "       total_income_of_municipality_budget_non_regular_pct_change_real  \\\n",
       "count                                         255.000000                 \n",
       "mean                                            0.258056                 \n",
       "std                                             0.165547                 \n",
       "min                                             0.000000                 \n",
       "25%                                             0.145578                 \n",
       "50%                                             0.223401                 \n",
       "75%                                             0.324490                 \n",
       "max                                             1.000000                 \n",
       "\n",
       "       prop_topographic_2006_std_dev_of_heights_above_level_sea_rating  \\\n",
       "count                                         255.000000                 \n",
       "mean                                            0.375615                 \n",
       "std                                             0.328554                 \n",
       "min                                             0.000000                 \n",
       "25%                                             0.012690                 \n",
       "50%                                             0.335025                 \n",
       "75%                                             0.662437                 \n",
       "max                                             1.000000                 \n",
       "\n",
       "       charge_arnona_industry_workshops_1000s_nis_2014  \\\n",
       "count                                       255.000000   \n",
       "mean                                          0.049525   \n",
       "std                                           0.114357   \n",
       "min                                           0.000000   \n",
       "25%                                           0.000892   \n",
       "50%                                           0.006753   \n",
       "75%                                           0.038215   \n",
       "max                                           1.000000   \n",
       "\n",
       "       number_the_kids_due_to_paid_handouts_in_families_with_2-1_kids_  \\\n",
       "count                                         255.000000                 \n",
       "mean                                            0.042893                 \n",
       "std                                             0.093679                 \n",
       "min                                             0.000000                 \n",
       "25%                                             0.007467                 \n",
       "50%                                             0.016275                 \n",
       "75%                                             0.037574                 \n",
       "max                                             1.000000                 \n",
       "\n",
       "       avg_students_per_class_in_schools_elementary_incl_education_spe  \\\n",
       "count                                         255.000000                 \n",
       "mean                                            0.696807                 \n",
       "std                                             0.111648                 \n",
       "min                                             0.000000                 \n",
       "25%                                             0.657143                 \n",
       "50%                                             0.714286                 \n",
       "75%                                             0.771429                 \n",
       "max                                             1.000000                 \n",
       "\n",
       "       uses_land_area_open_other_2013_pct_of_all_area_jurisdiction  \\\n",
       "count                                         255.000000             \n",
       "mean                                            0.064805             \n",
       "std                                             0.173712             \n",
       "min                                             0.000000             \n",
       "25%                                             0.000000             \n",
       "50%                                             0.000000             \n",
       "75%                                             0.000000             \n",
       "max                                             1.000000             \n",
       "\n",
       "       income_own_of_municipality_of_education_pct_change_real_2015_vs  \\\n",
       "count                                         255.000000                 \n",
       "mean                                            0.233531                 \n",
       "std                                             0.098931                 \n",
       "min                                             0.000000                 \n",
       "25%                                             0.190560                 \n",
       "50%                                             0.212459                 \n",
       "75%                                             0.247144                 \n",
       "max                                             1.000000                 \n",
       "\n",
       "       charge_arnona_rest_kinds_asset_area_1000s_m2_2014  \\\n",
       "count                                         255.000000   \n",
       "mean                                            0.020007   \n",
       "std                                             0.094424   \n",
       "min                                             0.000000   \n",
       "25%                                             0.000114   \n",
       "50%                                             0.000969   \n",
       "75%                                             0.006994   \n",
       "max                                             1.000000   \n",
       "\n",
       "       charge_arnona_rest_kinds_asset_area_1000s_m2_2015  \\\n",
       "count                                         255.000000   \n",
       "mean                                            0.020360   \n",
       "std                                             0.094094   \n",
       "min                                             0.000000   \n",
       "25%                                             0.000092   \n",
       "50%                                             0.000966   \n",
       "75%                                             0.006937   \n",
       "max                                             1.000000   \n",
       "\n",
       "                                ...                            kibutz_2015  \\\n",
       "count                           ...                             255.000000   \n",
       "mean                            ...                               0.036241   \n",
       "std                             ...                               0.118079   \n",
       "min                             ...                               0.000000   \n",
       "25%                             ...                               0.000000   \n",
       "50%                             ...                               0.000000   \n",
       "75%                             ...                               0.000000   \n",
       "max                             ...                               1.000000   \n",
       "\n",
       "       use_water_residential_institutional_municipality_local_1000s_m3  \\\n",
       "count                                         255.000000                 \n",
       "mean                                            0.045315                 \n",
       "std                                             0.096982                 \n",
       "min                                             0.000000                 \n",
       "25%                                             0.002080                 \n",
       "50%                                             0.013521                 \n",
       "75%                                             0.040562                 \n",
       "max                                             1.000000                 \n",
       "\n",
       "       recip_funds_unemployment_men_2015_avg_monthly  \\\n",
       "count                                     255.000000   \n",
       "mean                                        0.072337   \n",
       "std                                         0.130058   \n",
       "min                                         0.000000   \n",
       "25%                                         0.012844   \n",
       "50%                                         0.028746   \n",
       "75%                                         0.071560   \n",
       "max                                         1.000000   \n",
       "\n",
       "       incoming_from_places_other_age_29-15_2015  \\\n",
       "count                                 255.000000   \n",
       "mean                                    0.031915   \n",
       "std                                     0.080711   \n",
       "min                                     0.000000   \n",
       "25%                                     0.003928   \n",
       "50%                                     0.009847   \n",
       "75%                                     0.027384   \n",
       "max                                     1.000000   \n",
       "\n",
       "       pct_freelancers_earning_to_half_wage_avg_in_2014  \\\n",
       "count                                        255.000000   \n",
       "mean                                           0.389389   \n",
       "std                                            0.193357   \n",
       "min                                            0.000000   \n",
       "25%                                            0.256127   \n",
       "50%                                            0.379902   \n",
       "75%                                            0.512255   \n",
       "max                                            1.000000   \n",
       "\n",
       "       total_population_end_2015_1000s  avg_distances_weighted_km_2006  \\\n",
       "count                       255.000000                      255.000000   \n",
       "mean                          0.036947                        0.060598   \n",
       "std                           0.083105                        0.143253   \n",
       "min                           0.000000                        0.000000   \n",
       "25%                           0.007286                        0.000000   \n",
       "50%                           0.015034                        0.000000   \n",
       "75%                           0.032612                        0.000000   \n",
       "max                           1.000000                        1.000000   \n",
       "\n",
       "       total_expenses_of_municipality_budget_regular_1000s_nis_2015  \\\n",
       "count                                         255.000000              \n",
       "mean                                            0.046021              \n",
       "std                                             0.102448              \n",
       "min                                             0.000000              \n",
       "25%                                             0.009838              \n",
       "50%                                             0.019329              \n",
       "75%                                             0.039323              \n",
       "max                                             1.000000              \n",
       "\n",
       "       income_of_municipality_budget_non_regular_part_own_assets_pct_c  \\\n",
       "count                                         255.000000                 \n",
       "mean                                            0.322780                 \n",
       "std                                             0.145919                 \n",
       "min                                             0.000000                 \n",
       "25%                                             0.311434                 \n",
       "50%                                             0.311434                 \n",
       "75%                                             0.311434                 \n",
       "max                                             1.000000                 \n",
       "\n",
       "       pct_immigrants_aged_65_and_above_settlement_first_2015  \n",
       "count                                         255.000000       \n",
       "mean                                            0.088051       \n",
       "std                                             0.133005       \n",
       "min                                             0.000000       \n",
       "25%                                             0.000000       \n",
       "50%                                             0.043000       \n",
       "75%                                             0.133000       \n",
       "max                                             1.000000       \n",
       "\n",
       "[8 rows x 366 columns]"
      ]
     },
     "execution_count": 14,
     "metadata": {},
     "output_type": "execute_result"
    }
   ],
   "source": [
    "scaled_numerical_df.describe()"
   ]
  },
  {
   "cell_type": "markdown",
   "metadata": {},
   "source": [
    "## unite back"
   ]
  },
  {
   "cell_type": "code",
   "execution_count": 15,
   "metadata": {
    "ExecuteTime": {
     "end_time": "2018-05-09T09:45:01.995000Z",
     "start_time": "2018-05-09T09:45:01.983000Z"
    }
   },
   "outputs": [
    {
     "data": {
      "text/plain": [
       "(255, 382)"
      ]
     },
     "execution_count": 15,
     "metadata": {},
     "output_type": "execute_result"
    }
   ],
   "source": [
    "clean_df = pd.merge(scaled_numerical_df, categorical_df, how= 'inner', left_index=True, right_index=True)\n",
    "clean_df.shape"
   ]
  },
  {
   "cell_type": "markdown",
   "metadata": {},
   "source": [
    "# Use all features, compress, explore clusters"
   ]
  },
  {
   "cell_type": "markdown",
   "metadata": {},
   "source": [
    "## Dimensionality Reduction"
   ]
  },
  {
   "cell_type": "code",
   "execution_count": 16,
   "metadata": {
    "ExecuteTime": {
     "end_time": "2018-05-09T09:45:02.135000Z",
     "start_time": "2018-05-09T09:45:01.999000Z"
    }
   },
   "outputs": [
    {
     "data": {
      "text/plain": [
       "PCA(copy=True, iterated_power='auto', n_components=10, random_state=None,\n",
       "  svd_solver='auto', tol=0.0, whiten=False)"
      ]
     },
     "execution_count": 16,
     "metadata": {},
     "output_type": "execute_result"
    }
   ],
   "source": [
    "pca = decomposition.PCA(n_components=10)\n",
    "pca.fit(clean_df)"
   ]
  },
  {
   "cell_type": "code",
   "execution_count": 17,
   "metadata": {
    "ExecuteTime": {
     "end_time": "2018-05-09T09:45:02.146000Z",
     "start_time": "2018-05-09T09:45:02.139000Z"
    }
   },
   "outputs": [
    {
     "data": {
      "text/plain": [
       "array([ 0.21198077,  0.14716079,  0.08112233,  0.05825656,  0.04767151,\n",
       "        0.03768056,  0.03178112,  0.02523178,  0.02109102,  0.02001676])"
      ]
     },
     "execution_count": 17,
     "metadata": {},
     "output_type": "execute_result"
    }
   ],
   "source": [
    "pca.explained_variance_ratio_"
   ]
  },
  {
   "cell_type": "code",
   "execution_count": 18,
   "metadata": {
    "ExecuteTime": {
     "end_time": "2018-05-09T09:45:02.164000Z",
     "start_time": "2018-05-09T09:45:02.149000Z"
    }
   },
   "outputs": [
    {
     "name": "stdout",
     "output_type": "stream",
     "text": [
      "0.681993201033\n"
     ]
    }
   ],
   "source": [
    "print np.sum(pca.explained_variance_ratio_)"
   ]
  },
  {
   "cell_type": "code",
   "execution_count": 19,
   "metadata": {
    "ExecuteTime": {
     "end_time": "2018-05-09T09:45:02.188000Z",
     "start_time": "2018-05-09T09:45:02.168000Z"
    }
   },
   "outputs": [
    {
     "name": "stdout",
     "output_type": "stream",
     "text": [
      "(255L, 10L)\n"
     ]
    }
   ],
   "source": [
    "projected_df = pca.transform(clean_df)\n",
    "print projected_df.shape"
   ]
  },
  {
   "cell_type": "markdown",
   "metadata": {},
   "source": [
    "## plot projected data"
   ]
  },
  {
   "cell_type": "code",
   "execution_count": 38,
   "metadata": {
    "ExecuteTime": {
     "end_time": "2018-05-09T10:18:16.479000Z",
     "start_time": "2018-05-09T10:18:16.266000Z"
    }
   },
   "outputs": [
    {
     "data": {
      "text/plain": [
       "<matplotlib.figure.Figure at 0x10875278>"
      ]
     },
     "metadata": {},
     "output_type": "display_data"
    },
    {
     "data": {
      "image/png": "[encoded data removed]",
      "text/plain": [
       "<matplotlib.figure.Figure at 0x14543f60>"
      ]
     },
     "metadata": {},
     "output_type": "display_data"
    }
   ],
   "source": [
    "plt.clf()\n",
    "plt.subplots(1, figsize=(10, 7))\n",
    "plt.scatter(x=projected_df[:,0], y=projected_df[:,1], \n",
    "           s=25, c=clean_df['total_population_end_2015_1000s'], cmap='viridis', alpha=0.8)\n",
    "plt.colorbar()\n",
    "plt.show()"
   ]
  },
  {
   "cell_type": "markdown",
   "metadata": {},
   "source": [
    "Make interactive so I can choose which PC's to show, see which city each point represents, and maybe also color by a variable from the df?"
   ]
  },
  {
   "cell_type": "code",
   "execution_count": null,
   "metadata": {
    "ExecuteTime": {
     "end_time": "2018-05-09T09:45:02.407000Z",
     "start_time": "2018-05-09T09:44:57.612Z"
    },
    "scrolled": false
   },
   "outputs": [],
   "source": [
    "# create a Figure object\n",
    "p = figure(plot_width=600, plot_height=600, tools=\"pan,reset,save,zoom_in,zoom_out\")\n",
    "\n",
    "# add a Circle renderer to this figure\n",
    "p.circle(projected_df[:,7], projected_df[:,3], radius=.02, alpha=0.5)\n",
    "\n",
    "# display the figure\n",
    "show(p)"
   ]
  },
  {
   "cell_type": "markdown",
   "metadata": {
    "collapsed": true
   },
   "source": [
    "read: http://build.holoviews.org/, http://biobits.org/bokeh-jupyter-embed.html, http://ipywidgets.readthedocs.io/en/latest/examples/Using%20Interact.html, "
   ]
  },
  {
   "cell_type": "markdown",
   "metadata": {},
   "source": [
    "## Correlate PCs with budget"
   ]
  },
  {
   "cell_type": "code",
   "execution_count": null,
   "metadata": {
    "collapsed": true
   },
   "outputs": [],
   "source": []
  },
  {
   "cell_type": "markdown",
   "metadata": {
    "collapsed": true
   },
   "source": [
    "## Cluster"
   ]
  },
  {
   "cell_type": "markdown",
   "metadata": {},
   "source": [
    "http://scikit-learn.org/stable/modules/clustering.html#hierarchical-clustering"
   ]
  },
  {
   "cell_type": "code",
   "execution_count": null,
   "metadata": {
    "collapsed": true
   },
   "outputs": [],
   "source": []
  },
  {
   "cell_type": "markdown",
   "metadata": {},
   "source": [
    "# Like Tel-Aviv but not Tel-Aviv"
   ]
  },
  {
   "cell_type": "markdown",
   "metadata": {},
   "source": [
    "Based on: https://www.nytimes.com/interactive/2018/04/03/upshot/what-is-your-citys-twin.html"
   ]
  },
  {
   "cell_type": "markdown",
   "metadata": {},
   "source": [
    "## Choose a subset of features (scale?)"
   ]
  },
  {
   "cell_type": "markdown",
   "metadata": {},
   "source": [
    "## Which is most similar?"
   ]
  },
  {
   "cell_type": "markdown",
   "metadata": {},
   "source": [
    "## Categories. Which is most similiar but from a different category?"
   ]
  },
  {
   "cell_type": "markdown",
   "metadata": {},
   "source": [
    "For example: different size, geographic region, demographics "
   ]
  }
 ],
 "metadata": {
  "kernelspec": {
   "display_name": "Python 2",
   "language": "python",
   "name": "python2"
  },
  "language_info": {
   "codemirror_mode": {
    "name": "ipython",
    "version": 2
   },
   "file_extension": ".py",
   "mimetype": "text/x-python",
   "name": "python",
   "nbconvert_exporter": "python",
   "pygments_lexer": "ipython2",
   "version": "2.7.14"
  },
  "toc": {
   "nav_menu": {},
   "number_sections": true,
   "sideBar": true,
   "skip_h1_title": false,
   "title_cell": "Table of Contents",
   "title_sidebar": "Contents",
   "toc_cell": false,
   "toc_position": {
    "height": "calc(100% - 180px)",
    "left": "10px",
    "top": "150px",
    "width": "234px"
   },
   "toc_section_display": true,
   "toc_window_display": true
  }
 },
 "nbformat": 4,
 "nbformat_minor": 2
}
